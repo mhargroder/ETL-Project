{
 "cells": [
  {
   "cell_type": "markdown",
   "metadata": {},
   "source": [
    "DEPENDENCIES"
   ]
  },
  {
   "cell_type": "code",
   "execution_count": 23,
   "metadata": {},
   "outputs": [],
   "source": [
    "from bs4 import BeautifulSoup as bs\n",
    "import requests\n",
    "import numpy as np\n",
    "import pandas as pd\n",
    "import sqlite3\n",
    "from sqlalchemy import create_engine , inspect\n",
    "from sqlalchemy.ext.declarative import declarative_base\n",
    "Base = declarative_base()\n",
    "from sqlalchemy import Column, Integer, String, Float, DateTime\n",
    "import datetime as dt"
   ]
  },
  {
   "cell_type": "markdown",
   "metadata": {},
   "source": [
    "SOUP EXTRACT"
   ]
  },
  {
   "cell_type": "code",
   "execution_count": 2,
   "metadata": {},
   "outputs": [],
   "source": [
    "indeed  = 'https://www.indeed.com/jobs?q=data+analyst&l=#'\n",
    "response = requests.get(indeed).text"
   ]
  },
  {
   "cell_type": "code",
   "execution_count": 3,
   "metadata": {},
   "outputs": [],
   "source": [
    "soup = bs(response, 'html.parser')"
   ]
  },
  {
   "cell_type": "code",
   "execution_count": 4,
   "metadata": {},
   "outputs": [],
   "source": [
    "jobCards = soup.find_all('div', class_= 'jobsearch-SerpJobCard')"
   ]
  },
  {
   "cell_type": "markdown",
   "metadata": {},
   "source": [
    "TRANSFORM"
   ]
  },
  {
   "cell_type": "code",
   "execution_count": 6,
   "metadata": {},
   "outputs": [],
   "source": [
    "#Indeed source\n",
    "# Loop through returned Indeed soup object and create a list of dicts with values wanted for fields\n",
    "\n",
    "jobList =[]\n",
    "\n",
    "for job in jobCards:\n",
    "    # Error handling\n",
    "    try:\n",
    "        # Identify and return title of listing\n",
    "        title = job.find('a', class_='jobtitle').text.strip()\n",
    "        company = job.find('span', class_='company').text.strip()\n",
    "        location = job.find('div', class_ = 'location accessible-contrast-color-location').text.strip()\n",
    "      \n",
    "\n",
    "        # Print results only if title, price, and link are available\n",
    "        if (title and company and location):\n",
    "\n",
    "           # Dictionary to be inserted into list\n",
    "            post = {\n",
    "                'job_title': title,\n",
    "                'company': company,\n",
    "                'location': location\n",
    "            }\n",
    "            jobList.append(post)\n",
    "            \n",
    "    except AttributeError as e:\n",
    "        pass"
   ]
  },
  {
   "cell_type": "code",
   "execution_count": 24,
   "metadata": {},
   "outputs": [],
   "source": [
    "#Indeed List of Dicts create a df\n",
    "df1 = pd.DataFrame(jobList)  "
   ]
  },
  {
   "cell_type": "code",
   "execution_count": 25,
   "metadata": {},
   "outputs": [
    {
     "data": {
      "text/html": [
       "<div>\n",
       "<style scoped>\n",
       "    .dataframe tbody tr th:only-of-type {\n",
       "        vertical-align: middle;\n",
       "    }\n",
       "\n",
       "    .dataframe tbody tr th {\n",
       "        vertical-align: top;\n",
       "    }\n",
       "\n",
       "    .dataframe thead th {\n",
       "        text-align: right;\n",
       "    }\n",
       "</style>\n",
       "<table border=\"1\" class=\"dataframe\">\n",
       "  <thead>\n",
       "    <tr style=\"text-align: right;\">\n",
       "      <th></th>\n",
       "      <th>job_title</th>\n",
       "      <th>company</th>\n",
       "      <th>location</th>\n",
       "    </tr>\n",
       "  </thead>\n",
       "  <tbody>\n",
       "    <tr>\n",
       "      <th>0</th>\n",
       "      <td>CCoE CM Cyber Sit. Understanding Data Analyst</td>\n",
       "      <td>FITT Scientific LLC</td>\n",
       "      <td>Fort Gordon, GA 30905</td>\n",
       "    </tr>\n",
       "    <tr>\n",
       "      <th>1</th>\n",
       "      <td>SQL Data Analyst</td>\n",
       "      <td>Utility Trailer Manufacturing Company</td>\n",
       "      <td>Atkins, VA 24311</td>\n",
       "    </tr>\n",
       "    <tr>\n",
       "      <th>2</th>\n",
       "      <td>Pricing Analyst (Business Analyst)</td>\n",
       "      <td>Bobcat Company</td>\n",
       "      <td>Bismarck, ND</td>\n",
       "    </tr>\n",
       "    <tr>\n",
       "      <th>3</th>\n",
       "      <td>Data Business Analyst</td>\n",
       "      <td>Payzer</td>\n",
       "      <td>Charlotte, NC 28226 (Johnston Rd.-McAlpine area)</td>\n",
       "    </tr>\n",
       "    <tr>\n",
       "      <th>4</th>\n",
       "      <td>Data Analyst</td>\n",
       "      <td>Private</td>\n",
       "      <td>Aurora, CO 80011 (Jewell Heights - Hoffman Hei...</td>\n",
       "    </tr>\n",
       "  </tbody>\n",
       "</table>\n",
       "</div>"
      ],
      "text/plain": [
       "                                       job_title  \\\n",
       "0  CCoE CM Cyber Sit. Understanding Data Analyst   \n",
       "1                               SQL Data Analyst   \n",
       "2             Pricing Analyst (Business Analyst)   \n",
       "3                          Data Business Analyst   \n",
       "4                                   Data Analyst   \n",
       "\n",
       "                                 company  \\\n",
       "0                    FITT Scientific LLC   \n",
       "1  Utility Trailer Manufacturing Company   \n",
       "2                         Bobcat Company   \n",
       "3                                 Payzer   \n",
       "4                                Private   \n",
       "\n",
       "                                            location  \n",
       "0                              Fort Gordon, GA 30905  \n",
       "1                                   Atkins, VA 24311  \n",
       "2                                       Bismarck, ND  \n",
       "3   Charlotte, NC 28226 (Johnston Rd.-McAlpine area)  \n",
       "4  Aurora, CO 80011 (Jewell Heights - Hoffman Hei...  "
      ]
     },
     "execution_count": 25,
     "metadata": {},
     "output_type": "execute_result"
    }
   ],
   "source": [
    "df1.head(5)"
   ]
  },
  {
   "cell_type": "code",
   "execution_count": null,
   "metadata": {},
   "outputs": [],
   "source": [
    "# Import CSV output  from splinter code to a dataframe\n",
    "df2 = pd.read_csv('file') #Remco to populate"
   ]
  },
  {
   "cell_type": "code",
   "execution_count": null,
   "metadata": {},
   "outputs": [],
   "source": [
    "# Concat df1 and df2 to df3\n",
    "\n",
    "df3 = pd.DataFrame(df3df1.append(df2))"
   ]
  },
  {
   "cell_type": "markdown",
   "metadata": {},
   "source": [
    "LOAD"
   ]
  },
  {
   "cell_type": "code",
   "execution_count": 26,
   "metadata": {},
   "outputs": [],
   "source": [
    "# Create the posting class (the posting table that will be in the db)\n",
    "class Posting(Base):\n",
    "    __tablename__ = 'posting'\n",
    "    id = Column(Integer, primary_key=True)\n",
    "    job_title = Column(String(255))\n",
    "    company = Column(String(255))\n",
    "    location = Column(String(255))\n",
    "    timestamp = Column(DateTime())\n"
   ]
  },
  {
   "cell_type": "code",
   "execution_count": 35,
   "metadata": {},
   "outputs": [],
   "source": [
    "# Create a connection to a SQLite database\n",
    "engine = create_engine('sqlite:///job_postings.db')\n",
    "conn = engine.connect()\n",
    "Base.metadata.create_all(engine)  #this should create the table based on the classes defined\n",
    "from sqlalchemy.orm import Session\n",
    "session = Session(bind=engine)"
   ]
  },
  {
   "cell_type": "code",
   "execution_count": 37,
   "metadata": {},
   "outputs": [],
   "source": [
    "# Iterate over df and add rows as records to table\n",
    "\n",
    "for i in df3.itertuples():\n",
    "\n",
    "    try:\n",
    "        record = Posting(job_title = i.job_title, company = i.company, location = i.location,timestamp = pd.datetime.now().replace(microsecond=0) )\n",
    "        session.add(record)\n",
    "        session.commit()\n",
    " \n",
    "    except:\n",
    "        pass\n",
    "    \n"
   ]
  },
  {
   "cell_type": "markdown",
   "metadata": {},
   "source": [
    "TEST\n"
   ]
  },
  {
   "cell_type": "code",
   "execution_count": 38,
   "metadata": {},
   "outputs": [
    {
     "data": {
      "text/plain": [
       "['posting']"
      ]
     },
     "execution_count": 38,
     "metadata": {},
     "output_type": "execute_result"
    }
   ],
   "source": [
    "#Insepect the database\n",
    "inspector = inspect(engine)\n",
    "inspector.get_table_names()"
   ]
  },
  {
   "cell_type": "code",
   "execution_count": 39,
   "metadata": {},
   "outputs": [
    {
     "name": "stdout",
     "output_type": "stream",
     "text": [
      "id INTEGER\n",
      "job_title VARCHAR(255)\n",
      "company VARCHAR(255)\n",
      "location VARCHAR(255)\n",
      "timestamp DATETIME\n"
     ]
    }
   ],
   "source": [
    "columns = inspector.get_columns('posting')\n",
    "for column in columns:\n",
    "    print(column[\"name\"], column[\"type\"])"
   ]
  },
  {
   "cell_type": "code",
   "execution_count": 40,
   "metadata": {},
   "outputs": [
    {
     "name": "stdout",
     "output_type": "stream",
     "text": [
      "CCoE CM Cyber Sit. Understanding Data Analyst\n",
      "SQL Data Analyst\n",
      "Pricing Analyst (Business Analyst)\n",
      "Data Business Analyst\n",
      "Data Analyst\n",
      "Data Analyst\n",
      "Data Analyst\n",
      "Data Analyst - 9867780\n",
      "Data Analyst\n",
      "CCoE CM Cyber Sit. Understanding Data Analyst\n",
      "SQL Data Analyst\n",
      "Pricing Analyst (Business Analyst)\n",
      "Data Business Analyst\n",
      "Data Analyst\n",
      "Data Analyst\n",
      "Data Analyst\n",
      "Data Analyst - 9867780\n",
      "Data Analyst\n"
     ]
    }
   ],
   "source": [
    "postings = session.query(Posting)\n",
    "for job in postings:\n",
    "  print(job.job_title)"
   ]
  },
  {
   "cell_type": "markdown",
   "metadata": {},
   "source": [
    "RESET DataBase"
   ]
  },
  {
   "cell_type": "code",
   "execution_count": 41,
   "metadata": {},
   "outputs": [],
   "source": [
    "# Use this to clear out the db when necessary\n",
    "\n",
    "#Base.metadata.drop_all(engine)"
   ]
  },
  {
   "cell_type": "markdown",
   "metadata": {},
   "source": [
    "Troubleshooting Resources:"
   ]
  },
  {
   "cell_type": "code",
   "execution_count": null,
   "metadata": {},
   "outputs": [],
   "source": [
    "# If needed to explore the soup object\n",
    "\n",
    "#jobCard = soup.find('div', class_= 'jobsearch-SerpJobCard')\n",
    "#print(jobCard.prettify())"
   ]
  }
 ],
 "metadata": {
  "kernelspec": {
   "display_name": "Python 3",
   "language": "python",
   "name": "python3"
  },
  "language_info": {
   "codemirror_mode": {
    "name": "ipython",
    "version": 3
   },
   "file_extension": ".py",
   "mimetype": "text/x-python",
   "name": "python",
   "nbconvert_exporter": "python",
   "pygments_lexer": "ipython3",
   "version": "3.6.9"
  }
 },
 "nbformat": 4,
 "nbformat_minor": 2
}
