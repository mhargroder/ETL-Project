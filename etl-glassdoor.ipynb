{
 "cells": [
  {
   "cell_type": "code",
   "execution_count": 1,
   "metadata": {},
   "outputs": [],
   "source": [
    "# Dependencies\n",
    "from splinter import Browser\n",
    "from bs4 import BeautifulSoup\n",
    "import requests\n",
    "\n",
    "import pandas as pd"
   ]
  },
  {
   "cell_type": "code",
   "execution_count": 2,
   "metadata": {},
   "outputs": [],
   "source": [
    "executable_path = {'executable_path': 'chromedriver.exe'}\n",
    "browser = Browser('chrome', **executable_path, headless=False)\n"
   ]
  },
  {
   "cell_type": "code",
   "execution_count": 3,
   "metadata": {},
   "outputs": [],
   "source": [
    "url = \"https://www.glassdoor.com/sitedirectory/city-jobs.htm\"\n",
    "browser.visit(url)"
   ]
  },
  {
   "cell_type": "code",
   "execution_count": 4,
   "metadata": {
    "scrolled": true
   },
   "outputs": [
    {
     "name": "stdout",
     "output_type": "stream",
     "text": [
      "what job position are you interested in?data analyst\n"
     ]
    }
   ],
   "source": [
    "job = input(\"what job position are you interested in?\")"
   ]
  },
  {
   "cell_type": "code",
   "execution_count": 5,
   "metadata": {},
   "outputs": [],
   "source": [
    "browser.fill('sc.keyword', job)"
   ]
  },
  {
   "cell_type": "code",
   "execution_count": 6,
   "metadata": {},
   "outputs": [],
   "source": [
    "browser.find_by_id('HeroSearchButton').click()"
   ]
  },
  {
   "cell_type": "code",
   "execution_count": 14,
   "metadata": {
    "scrolled": false
   },
   "outputs": [
    {
     "name": "stdout",
     "output_type": "stream",
     "text": [
      "https://www.glassdoor.com/Job/jobs.htm?suggestCount=0&suggestChosen=false&clickSource=searchBtn&typedKeyword=data+analyst&sc.keyword=data+analyst&locT=&locId=&jobType=\n",
      "Number of jobs found: 9,972 Jobs\n"
     ]
    }
   ],
   "source": [
    "results_url = browser.url\n",
    "print(results_url)\n",
    "jobs_count = browser.find_by_css('.jobsCount')\n",
    "for i in jobs_count:\n",
    "    total_jobs = i.text\n",
    "    print(f'Number of jobs found: {total_jobs}')"
   ]
  },
  {
   "cell_type": "code",
   "execution_count": 8,
   "metadata": {},
   "outputs": [
    {
     "data": {
      "text/plain": [
       "<splinter.element_list.ElementList at 0x1282e590668>"
      ]
     },
     "execution_count": 8,
     "metadata": {},
     "output_type": "execute_result"
    }
   ],
   "source": [
    "job_items = browser.find_by_css('.jobContainer')\n",
    "job_items"
   ]
  },
  {
   "cell_type": "code",
   "execution_count": 9,
   "metadata": {},
   "outputs": [],
   "source": [
    "company = []\n",
    "job_title = []\n",
    "location = []\n",
    "\n",
    "for job in job_items:\n",
    "    \n",
    "    job_post = job.text.splitlines()\n",
    "    company.append(job_post[0])\n",
    "    job_title.append(job_post[1])\n",
    "    location.append(job_post[2])"
   ]
  },
  {
   "cell_type": "code",
   "execution_count": 10,
   "metadata": {},
   "outputs": [],
   "source": [
    "jobs_df = pd.DataFrame({\n",
    "        'job_title': job_title,\n",
    "        'company': company,\n",
    "        'location': location\n",
    "})"
   ]
  },
  {
   "cell_type": "code",
   "execution_count": 11,
   "metadata": {},
   "outputs": [
    {
     "data": {
      "text/html": [
       "<div>\n",
       "<style scoped>\n",
       "    .dataframe tbody tr th:only-of-type {\n",
       "        vertical-align: middle;\n",
       "    }\n",
       "\n",
       "    .dataframe tbody tr th {\n",
       "        vertical-align: top;\n",
       "    }\n",
       "\n",
       "    .dataframe thead th {\n",
       "        text-align: right;\n",
       "    }\n",
       "</style>\n",
       "<table border=\"1\" class=\"dataframe\">\n",
       "  <thead>\n",
       "    <tr style=\"text-align: right;\">\n",
       "      <th></th>\n",
       "      <th>job_title</th>\n",
       "      <th>company</th>\n",
       "      <th>location</th>\n",
       "    </tr>\n",
       "  </thead>\n",
       "  <tbody>\n",
       "    <tr>\n",
       "      <th>0</th>\n",
       "      <td>Data Analyst, Customer Experience Analytics</td>\n",
       "      <td>Autodesk</td>\n",
       "      <td>San Francisco, CA</td>\n",
       "    </tr>\n",
       "    <tr>\n",
       "      <th>1</th>\n",
       "      <td>Data Quality Analyst</td>\n",
       "      <td>Autodesk</td>\n",
       "      <td>Portland, OR</td>\n",
       "    </tr>\n",
       "    <tr>\n",
       "      <th>2</th>\n",
       "      <td>Data Analyst, Genuine Protection</td>\n",
       "      <td>Autodesk</td>\n",
       "      <td>Montreal</td>\n",
       "    </tr>\n",
       "    <tr>\n",
       "      <th>3</th>\n",
       "      <td>Business Data Analyst (must work</td>\n",
       "      <td>RealTime Solutions</td>\n",
       "      <td>Becker, MN</td>\n",
       "    </tr>\n",
       "    <tr>\n",
       "      <th>4</th>\n",
       "      <td>Data Analyst with an Emphasis on Presentation</td>\n",
       "      <td>VS Media</td>\n",
       "      <td>Westlake Village, Los Angeles, CA</td>\n",
       "    </tr>\n",
       "    <tr>\n",
       "      <th>5</th>\n",
       "      <td>Senior Data Analyst</td>\n",
       "      <td>Autodesk</td>\n",
       "      <td>San Francisco, CA</td>\n",
       "    </tr>\n",
       "    <tr>\n",
       "      <th>6</th>\n",
       "      <td>Data Analyst</td>\n",
       "      <td>Comprehensive Healthcare</td>\n",
       "      <td>Yakima, WA</td>\n",
       "    </tr>\n",
       "    <tr>\n",
       "      <th>7</th>\n",
       "      <td>Data Analyst I</td>\n",
       "      <td>Cenlar</td>\n",
       "      <td>Ewing, NJ</td>\n",
       "    </tr>\n",
       "    <tr>\n",
       "      <th>8</th>\n",
       "      <td>Data Analytics Analyst</td>\n",
       "      <td>Inmar</td>\n",
       "      <td>Rogers, AR</td>\n",
       "    </tr>\n",
       "    <tr>\n",
       "      <th>9</th>\n",
       "      <td>Data Analyst</td>\n",
       "      <td>Zelis Healthcare</td>\n",
       "      <td>Bedminster, NJ</td>\n",
       "    </tr>\n",
       "    <tr>\n",
       "      <th>10</th>\n",
       "      <td>Data &amp; Business Analyst</td>\n",
       "      <td>PennyMac</td>\n",
       "      <td>Westlake Village, Los Angeles, CA</td>\n",
       "    </tr>\n",
       "    <tr>\n",
       "      <th>11</th>\n",
       "      <td>Data Analyst</td>\n",
       "      <td>Sedgwick</td>\n",
       "      <td>Dubuque, IA</td>\n",
       "    </tr>\n",
       "    <tr>\n",
       "      <th>12</th>\n",
       "      <td>Data Analyst</td>\n",
       "      <td>Trupanion</td>\n",
       "      <td>Seattle, WA</td>\n",
       "    </tr>\n",
       "    <tr>\n",
       "      <th>13</th>\n",
       "      <td>Salesforce Data Analyst</td>\n",
       "      <td>Avalara</td>\n",
       "      <td>Remote</td>\n",
       "    </tr>\n",
       "    <tr>\n",
       "      <th>14</th>\n",
       "      <td>Senior Data Analyst, Genuine Protection</td>\n",
       "      <td>Autodesk</td>\n",
       "      <td>Montreal</td>\n",
       "    </tr>\n",
       "    <tr>\n",
       "      <th>15</th>\n",
       "      <td>Data Analyst</td>\n",
       "      <td>DISH</td>\n",
       "      <td>Englewood, CO</td>\n",
       "    </tr>\n",
       "    <tr>\n",
       "      <th>16</th>\n",
       "      <td>Product Management Data Analyst</td>\n",
       "      <td>HP Inc.</td>\n",
       "      <td>Spring, TX</td>\n",
       "    </tr>\n",
       "    <tr>\n",
       "      <th>17</th>\n",
       "      <td>BI Data Analyst II</td>\n",
       "      <td>CHRISTUS Health</td>\n",
       "      <td>Irving, TX</td>\n",
       "    </tr>\n",
       "    <tr>\n",
       "      <th>18</th>\n",
       "      <td>Data Engineering Analyst</td>\n",
       "      <td>COUNTRY Financial</td>\n",
       "      <td>Bloomington, IL</td>\n",
       "    </tr>\n",
       "    <tr>\n",
       "      <th>19</th>\n",
       "      <td>Data Analyst</td>\n",
       "      <td>CopperPoint Insurance Companies</td>\n",
       "      <td>Phoenix, AZ</td>\n",
       "    </tr>\n",
       "    <tr>\n",
       "      <th>20</th>\n",
       "      <td>Data Analyst</td>\n",
       "      <td>Big Huge Games</td>\n",
       "      <td>Timonium, MD</td>\n",
       "    </tr>\n",
       "    <tr>\n",
       "      <th>21</th>\n",
       "      <td>Data Analyst</td>\n",
       "      <td>JMH Companies</td>\n",
       "      <td>New Orleans, LA</td>\n",
       "    </tr>\n",
       "    <tr>\n",
       "      <th>22</th>\n",
       "      <td>DATA INTEGRATION ANALYST - W2 ONLY!</td>\n",
       "      <td>Entelli Consulting</td>\n",
       "      <td>Schaumburg, IL</td>\n",
       "    </tr>\n",
       "    <tr>\n",
       "      <th>23</th>\n",
       "      <td>Analyst, Data Analytics</td>\n",
       "      <td>Lincoln Financial</td>\n",
       "      <td>Dover, NH</td>\n",
       "    </tr>\n",
       "    <tr>\n",
       "      <th>24</th>\n",
       "      <td>Data Analyst</td>\n",
       "      <td>Allianz Partners</td>\n",
       "      <td>Richmond, VA</td>\n",
       "    </tr>\n",
       "    <tr>\n",
       "      <th>25</th>\n",
       "      <td>Data Driven Solutions Analyst</td>\n",
       "      <td>Harris</td>\n",
       "      <td>Saint Paul, MN</td>\n",
       "    </tr>\n",
       "    <tr>\n",
       "      <th>26</th>\n",
       "      <td>System Data Analyst (EPM)</td>\n",
       "      <td>Clinica Family Health</td>\n",
       "      <td>Lafayette, CO</td>\n",
       "    </tr>\n",
       "    <tr>\n",
       "      <th>27</th>\n",
       "      <td>Data Analyst</td>\n",
       "      <td>DRB Capital</td>\n",
       "      <td>Cresskill, NJ</td>\n",
       "    </tr>\n",
       "    <tr>\n",
       "      <th>28</th>\n",
       "      <td>Data Analyst</td>\n",
       "      <td>ReGeneration Schools</td>\n",
       "      <td>Chicago, IL</td>\n",
       "    </tr>\n",
       "    <tr>\n",
       "      <th>29</th>\n",
       "      <td>Data Analyst</td>\n",
       "      <td>AIPSO</td>\n",
       "      <td>Johnston, RI</td>\n",
       "    </tr>\n",
       "  </tbody>\n",
       "</table>\n",
       "</div>"
      ],
      "text/plain": [
       "                                        job_title  \\\n",
       "0     Data Analyst, Customer Experience Analytics   \n",
       "1                            Data Quality Analyst   \n",
       "2                Data Analyst, Genuine Protection   \n",
       "3                Business Data Analyst (must work   \n",
       "4   Data Analyst with an Emphasis on Presentation   \n",
       "5                             Senior Data Analyst   \n",
       "6                                    Data Analyst   \n",
       "7                                  Data Analyst I   \n",
       "8                          Data Analytics Analyst   \n",
       "9                                    Data Analyst   \n",
       "10                        Data & Business Analyst   \n",
       "11                                   Data Analyst   \n",
       "12                                   Data Analyst   \n",
       "13                        Salesforce Data Analyst   \n",
       "14        Senior Data Analyst, Genuine Protection   \n",
       "15                                   Data Analyst   \n",
       "16                Product Management Data Analyst   \n",
       "17                             BI Data Analyst II   \n",
       "18                       Data Engineering Analyst   \n",
       "19                                   Data Analyst   \n",
       "20                                   Data Analyst   \n",
       "21                                   Data Analyst   \n",
       "22            DATA INTEGRATION ANALYST - W2 ONLY!   \n",
       "23                        Analyst, Data Analytics   \n",
       "24                                   Data Analyst   \n",
       "25                  Data Driven Solutions Analyst   \n",
       "26                      System Data Analyst (EPM)   \n",
       "27                                   Data Analyst   \n",
       "28                                   Data Analyst   \n",
       "29                                   Data Analyst   \n",
       "\n",
       "                            company                           location  \n",
       "0                          Autodesk                  San Francisco, CA  \n",
       "1                          Autodesk                       Portland, OR  \n",
       "2                          Autodesk                           Montreal  \n",
       "3                RealTime Solutions                         Becker, MN  \n",
       "4                          VS Media  Westlake Village, Los Angeles, CA  \n",
       "5                          Autodesk                  San Francisco, CA  \n",
       "6          Comprehensive Healthcare                         Yakima, WA  \n",
       "7                            Cenlar                          Ewing, NJ  \n",
       "8                             Inmar                         Rogers, AR  \n",
       "9                  Zelis Healthcare                     Bedminster, NJ  \n",
       "10                         PennyMac  Westlake Village, Los Angeles, CA  \n",
       "11                         Sedgwick                        Dubuque, IA  \n",
       "12                        Trupanion                        Seattle, WA  \n",
       "13                          Avalara                             Remote  \n",
       "14                         Autodesk                           Montreal  \n",
       "15                             DISH                      Englewood, CO  \n",
       "16                          HP Inc.                         Spring, TX  \n",
       "17                  CHRISTUS Health                         Irving, TX  \n",
       "18                COUNTRY Financial                    Bloomington, IL  \n",
       "19  CopperPoint Insurance Companies                        Phoenix, AZ  \n",
       "20                   Big Huge Games                       Timonium, MD  \n",
       "21                    JMH Companies                    New Orleans, LA  \n",
       "22               Entelli Consulting                     Schaumburg, IL  \n",
       "23                Lincoln Financial                          Dover, NH  \n",
       "24                 Allianz Partners                       Richmond, VA  \n",
       "25                           Harris                     Saint Paul, MN  \n",
       "26            Clinica Family Health                      Lafayette, CO  \n",
       "27                      DRB Capital                      Cresskill, NJ  \n",
       "28             ReGeneration Schools                        Chicago, IL  \n",
       "29                            AIPSO                       Johnston, RI  "
      ]
     },
     "execution_count": 11,
     "metadata": {},
     "output_type": "execute_result"
    }
   ],
   "source": [
    "jobs_df"
   ]
  },
  {
   "cell_type": "code",
   "execution_count": 13,
   "metadata": {},
   "outputs": [],
   "source": [
    "jobs_df.to_csv(\"Output/glassdoor_jobs.csv\", index=False)"
   ]
  },
  {
   "cell_type": "code",
   "execution_count": null,
   "metadata": {},
   "outputs": [],
   "source": []
  }
 ],
 "metadata": {
  "kernelspec": {
   "display_name": "Python 3",
   "language": "python",
   "name": "python3"
  },
  "language_info": {
   "codemirror_mode": {
    "name": "ipython",
    "version": 3
   },
   "file_extension": ".py",
   "mimetype": "text/x-python",
   "name": "python",
   "nbconvert_exporter": "python",
   "pygments_lexer": "ipython3",
   "version": "3.6.9"
  }
 },
 "nbformat": 4,
 "nbformat_minor": 2
}
